{
 "cells": [
  {
   "cell_type": "code",
   "execution_count": 12,
   "metadata": {},
   "outputs": [],
   "source": [
    "#import the required libraries\n",
    "\n",
    "#wave module conviniently manipulate wave files\n",
    "import wave\n",
    "\n",
    "#fernet from cryptography for symmetric encryption\n",
    "from cryptography.fernet import Fernet\n",
    "\n",
    "#for encoding and decoding strings\n",
    "import base64, hashlib"
   ]
  },
  {
   "cell_type": "code",
   "execution_count": 13,
   "metadata": {},
   "outputs": [],
   "source": [
    "#read the song\n",
    "song = wave.open(\"song_embedded.wav\", mode='rb')\n",
    "\n",
    "#read every frame of the song file\n",
    "frame_bytes = bytearray(list(song.readframes(song.getnframes())))"
   ]
  },
  {
   "cell_type": "code",
   "execution_count": 14,
   "metadata": {},
   "outputs": [
    {
     "name": "stdout",
     "output_type": "stream",
     "text": [
      "Sucessfully decoded: gAAAAABjaluXdAV3XWA8vfa0qR0PRwIdWcyiR_bgzCU151TSxTMRluBZ2lLNfqqyin6-EO5Z5da5Wv_Q5_Ze6-uvmzPQhGCghA==\n"
     ]
    }
   ],
   "source": [
    "#read only the LSB of the song bytes\n",
    "extracted = [frame_bytes[i] & 1 for i in range(len(frame_bytes))]\n",
    "#create message from the extracted file\n",
    "message = \"\".join(chr(int(\"\".join(map(str,extracted[i:i+8])),2)) for i in range(0,len(extracted),8))\n",
    "#splits the message to get required string\n",
    "decoded = message.split(\"###\")[0]\n",
    "\n",
    "#prints the decoded string\n",
    "print(\"Sucessfully decoded: \"+decoded)\n",
    "song.close()"
   ]
  },
  {
   "cell_type": "code",
   "execution_count": 15,
   "metadata": {},
   "outputs": [],
   "source": [
    "#function to create the key based on custom input\n",
    "def gen_fernet_key(passcode:bytes) -> bytes:\n",
    "    assert isinstance(passcode, bytes)\n",
    "    hlib = hashlib.md5()\n",
    "    hlib.update(passcode)\n",
    "    return base64.urlsafe_b64encode(hlib.hexdigest().encode('latin-1'))"
   ]
  },
  {
   "cell_type": "code",
   "execution_count": 16,
   "metadata": {},
   "outputs": [
    {
     "name": "stdout",
     "output_type": "stream",
     "text": [
      "Decrypted string:  hi karthik\n"
     ]
    }
   ],
   "source": [
    "#user input of the key and conversion to required format\n",
    "\n",
    "key=input(\"Enter the Key: \")\n",
    "key = gen_fernet_key(key.encode('utf-8'))\n",
    "\n",
    "#creating the fernet key\n",
    "fernet = Fernet(key)\n",
    "\n",
    "#final decryption of thee data and printing them\n",
    "try:\n",
    "    decMessage = fernet.decrypt(decoded).decode()\n",
    "    print(\"Decrypted string: \", decMessage)\n",
    "except:\n",
    "    print(\"Check the key entered and try again \")\n"
   ]
  }
 ],
 "metadata": {
  "kernelspec": {
   "display_name": "Python 3.7.9 64-bit",
   "language": "python",
   "name": "python3"
  },
  "language_info": {
   "codemirror_mode": {
    "name": "ipython",
    "version": 3
   },
   "file_extension": ".py",
   "mimetype": "text/x-python",
   "name": "python",
   "nbconvert_exporter": "python",
   "pygments_lexer": "ipython3",
   "version": "3.7.9"
  },
  "orig_nbformat": 4,
  "vscode": {
   "interpreter": {
    "hash": "b13cc2a6bb13b2d35b4f47d53775997ee675cb8186b4898cf00401fbc5adf114"
   }
  }
 },
 "nbformat": 4,
 "nbformat_minor": 2
}
